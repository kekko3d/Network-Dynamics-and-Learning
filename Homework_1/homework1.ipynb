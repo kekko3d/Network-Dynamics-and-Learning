{
 "cells": [
  {
   "cell_type": "markdown",
   "id": "589962a9",
   "metadata": {},
   "source": [
    "# Exercise 1\n",
    "Let's build the graph described in the exercise"
   ]
  },
  {
   "cell_type": "code",
   "execution_count": 8,
   "id": "342d4db8",
   "metadata": {},
   "outputs": [],
   "source": [
    "import numpy as np\n",
    "import networkx as nx\n",
    "import matplotlib.pyplot as plt\n",
    "%matplotlib inline\n",
    "\n",
    "\n",
    "G = nx.DiGraph()\n",
    "G.add_edges_from([('a','d'),('b','d'),('c','d'),('b','c'),('o','b'),('o','a')])\n",
    "pos = {'o': [0,1], 'a': [1,2], 'b': [1,1], 'c': [1,0], 'd': [2,1]}\n",
    "\n",
    "G['o']['a']['capacity'] = 2\n",
    "G['a']['d']['capacity'] = 1\n",
    "G['o']['b']['capacity'] = 2\n",
    "G['b']['d']['capacity'] = 1\n",
    "G['b']['c']['capacity'] = 2\n",
    "G['c']['d']['capacity'] = 1\n",
    "\n",
    "nx.draw_networkx_edge_labels(G,pos, font_color='red')\n",
    "nx.draw(G, pos, with_labels = True)"
   ]
  },
  {
   "cell_type": "markdown",
   "id": "5ef60c14",
   "metadata": {},
   "source": [
    "### Esercise 1.A\n",
    "\n",
    "To find the mimimum aggregate capacity that must be removed it's enough to calculate the minimum cut. \n",
    "The value obtained is the minimum capacity that must be removed."
   ]
  },
  {
   "cell_type": "code",
   "execution_count": 259,
   "id": "5275aa36",
   "metadata": {},
   "outputs": [
    {
     "data": {
      "text/plain": [
       "(3, ({'a', 'b', 'c', 'o'}, {'d'}))"
      ]
     },
     "execution_count": 259,
     "metadata": {},
     "output_type": "execute_result"
    }
   ],
   "source": [
    "cut_value, partition = nx.minimum_cut(G, \"o\", \"d\")\n",
    "cut_value, partition"
   ]
  },
  {
   "cell_type": "markdown",
   "id": "897d33c2",
   "metadata": {},
   "source": [
    "### Exercise 1.B"
   ]
  },
  {
   "cell_type": "code",
   "execution_count": 260,
   "id": "c9a751e9",
   "metadata": {
    "scrolled": true
   },
   "outputs": [
    {
     "name": "stdout",
     "output_type": "stream",
     "text": [
      "aggr_capacity that can be removed 2\n",
      "list of edges from which the capacity is removed ['b-c', 'o-a']\n"
     ]
    }
   ],
   "source": [
    "#this is function can be used to visualize some information about the current network and it's used later on\n",
    "#in the exercises\n",
    "def info(G):\n",
    "    value, sets_edges = nx.minimum_cut(G, \"o\", \"d\")\n",
    "    print(\"Values of min-cut:\", value, \". Sets of vertexes obtained: \",  sets_edges)\n",
    "    for e in list(nx.edges(G)):\n",
    "        print(e, \"  \",G[e[0]][e[1]])\n",
    "\n",
    "#maxCap function is used to obtain the max capacity of a edge in the whole graph\n",
    "def maxCap(G):\n",
    "    maxCapacity = 0\n",
    "    for e in list(G.edges):\n",
    "        if maxCapacity < G[e[0]][e[1]]['capacity']:\n",
    "            maxCapacity = G[e[0]][e[1]]['capacity']\n",
    "    return maxCapacity\n",
    "\n",
    "#in order to not change the initial graph we define a new one\n",
    "G1 = nx.DiGraph(G)\n",
    "\n",
    "#defining some vaiable usefeul for the following loop\n",
    "#(mainly memory variables and list to be filled)\n",
    "maxCap = maxCap(G)\n",
    "aggr_capacity = 0\n",
    "oldMaxFlow = nx.minimum_cut_value(G, \"o\", \"d\")\n",
    "edges = list(G.edges)\n",
    "ListOfEdgesDecreased = []\n",
    "\n",
    "#MAIN PRINCIPLE: try to remove a capacity unit one edge at a time \n",
    "#(up to a maximum of maxCap) for every edge and check if the min cut decreases\n",
    "for cap in range(1,maxCap +1):\n",
    "    #iterate over every edge\n",
    "    for e in edges:\n",
    "        #for every edge decrease by one the capacity \n",
    "        G1[e[0]][e[1]]['capacity'] = G1[e[0]][e[1]]['capacity'] - 1\n",
    "        #compute the maxFlow: if it is the same as the old one\n",
    "        #we increase the aggregate capacity by one.\n",
    "        #if the maxFlow < oldMaxFlow we just then the algorithm is decreasing the maxflow by reducing the capacity\n",
    "        #of the edge and therefore we go back to the original capacity of the edge by adding one.\n",
    "        #Also in the case of having a negative capacity it is added a one\n",
    "        #because negative capacity doesn't make sense in this context\n",
    "        maxFlow = nx.minimum_cut_value(G1, \"o\", \"d\")\n",
    "        if maxFlow != oldMaxFlow or G1[e[0]][e[1]]['capacity'] < 0:\n",
    "            G1[e[0]][e[1]]['capacity'] = G1[e[0]][e[1]]['capacity'] + 1\n",
    "        else:\n",
    "            ListOfEdgesDecreased.append(e[0] +\"-\"+ e[1])\n",
    "            aggr_capacity += 1\n",
    "\n",
    "#print the total aggregate capacity \n",
    "print('aggr_capacity that can be removed', aggr_capacity)\n",
    "print('list of edges from which the capacity is removed', ListOfEdgesDecreased)"
   ]
  },
  {
   "cell_type": "markdown",
   "id": "725390b3",
   "metadata": {},
   "source": [
    "### Exercise 1.C"
   ]
  },
  {
   "cell_type": "code",
   "execution_count": 261,
   "id": "84bfa110",
   "metadata": {
    "scrolled": false
   },
   "outputs": [],
   "source": [
    "#we proceed defining some useful functions\n",
    "\n",
    "#function returning the common elements in two list\n",
    "def intersection(lst1, lst2):\n",
    "    lst3 = [value for value in lst1 if value in lst2]\n",
    "    return lst3\n",
    "\n",
    "#given two vertexes this function checks if one of the fisrt on\n",
    "#belongs to any any edge going directed towards v1.\n",
    "#If that is the case then the edge taken in consideration\n",
    "#cannot be an edge of the min cut.\n",
    "#Infact, both vertexes belongs to a list of vertexes (final_elements) whose edges \n",
    "#between them are not cut by the minimum cut\n",
    "def check_in_edges(v2, v1, G):\n",
    "    for e in G.in_edges(v1):\n",
    "        if v2 in e:\n",
    "            no_cut_edge = e\n",
    "            return no_cut_edge\n",
    "    \n",
    "def findEdgesMinCut(G):\n",
    "    oldMinCutV, sets =  nx.minimum_cut(G, \"o\", \"d\")\n",
    "    #final_elements is the subset of vertexes near \"d\" vertex\n",
    "    #found by the minimumcut\n",
    "    final_elements = sets[1]\n",
    "    no_cut_edges = []\n",
    "    all_edges = []\n",
    "    \n",
    "    #find edges that do not belong to the min cut\n",
    "    for v1 in final_elements:\n",
    "        for v2 in final_elements:\n",
    "            if v1 != v2:\n",
    "                no_cut_edges.append(check_in_edges(v2, v1, G))\n",
    "    \n",
    "    #get all edges that have as final vertex a final_elements vertex\n",
    "    for v1 in final_elements:\n",
    "        for e in G.in_edges(v1):\n",
    "            all_edges.append(e)\n",
    "    \n",
    "    #subtract all edges with the ones not cut by the minimum cut\n",
    "    #to have all edges cut by the minimum cut\n",
    "    for e in no_cut_edges:\n",
    "        if e is not None:\n",
    "            all_edges.remove(e)\n",
    "    \n",
    "    minimum_cut_edge = all_edges\n",
    "    return minimum_cut_edge\n",
    "\n",
    "#get the edges belonging to the shortest path\n",
    "def shortest_paths_edges(G):\n",
    "    shortest_paths = [p for p in nx.all_shortest_paths(G, source='o', target='d')]\n",
    "    list = []\n",
    "    for shortest_path_vertexes in shortest_paths:\n",
    "        for vertex_pos in range(len(shortest_path_vertexes) - 1):\n",
    "            edge = (shortest_path_vertexes[vertex_pos], shortest_path_vertexes[vertex_pos + 1])\n",
    "            list.append(edge)\n",
    "    return list"
   ]
  },
  {
   "cell_type": "code",
   "execution_count": 262,
   "id": "b16ad0e9",
   "metadata": {
    "scrolled": true
   },
   "outputs": [
    {
     "name": "stdout",
     "output_type": "stream",
     "text": [
      "Values of min-cut: 3 . Sets of vertexes obtained:  ({'b', 'a', 'o', 'c'}, {'d'})\n",
      "('a', 'd')    {'capacity': 1}\n",
      "('b', 'd')    {'capacity': 1}\n",
      "('b', 'c')    {'capacity': 2}\n",
      "('c', 'd')    {'capacity': 1}\n",
      "('o', 'b')    {'capacity': 2}\n",
      "('o', 'a')    {'capacity': 2}\n",
      "\n",
      "Adding x = 1  capacity\n",
      "Capacity added to edge: a - d\n",
      "\n",
      "Adding x = 1  capacity\n",
      "Capacity added to edge: a - d\n",
      "\n",
      "Adding x = 2  capacity\n",
      "Capacity added to edge: b - d\n",
      "\n",
      "Adding x = 1  capacity\n",
      "Capacity added to edge: a - d\n",
      "\n",
      "Adding x = 2  capacity\n",
      "Capacity added to edge: b - d\n",
      "\n",
      "Adding x = 3  capacity\n",
      "Capacity added to edge: o - b\n",
      "\n",
      "Adding x = 1  capacity\n",
      "Capacity added to edge: a - d\n",
      "\n",
      "Adding x = 2  capacity\n",
      "Capacity added to edge: b - d\n",
      "\n",
      "Adding x = 3  capacity\n",
      "Capacity added to edge: o - b\n",
      "\n",
      "Adding x = 4  capacity\n",
      "Capacity added to edge: b - d\n",
      "\n",
      "Adding x = 1  capacity\n",
      "Capacity added to edge: a - d\n",
      "\n",
      "Adding x = 2  capacity\n",
      "Capacity added to edge: b - d\n",
      "\n",
      "Adding x = 3  capacity\n",
      "Capacity added to edge: o - b\n",
      "\n",
      "Adding x = 4  capacity\n",
      "Capacity added to edge: b - d\n",
      "\n",
      "Adding x = 5  capacity\n",
      "Capacity added to edge: o - b\n",
      "\n",
      "Adding x = 1  capacity\n",
      "Capacity added to edge: a - d\n",
      "\n",
      "Adding x = 2  capacity\n",
      "Capacity added to edge: b - d\n",
      "\n",
      "Adding x = 3  capacity\n",
      "Capacity added to edge: o - b\n",
      "\n",
      "Adding x = 4  capacity\n",
      "Capacity added to edge: b - d\n",
      "\n",
      "Adding x = 5  capacity\n",
      "Capacity added to edge: o - b\n",
      "\n",
      "Adding x = 6  capacity\n",
      "Capacity added to edge: b - d\n",
      "\n",
      "Adding x = 1  capacity\n",
      "Capacity added to edge: a - d\n",
      "\n",
      "Adding x = 2  capacity\n",
      "Capacity added to edge: b - d\n",
      "\n",
      "Adding x = 3  capacity\n",
      "Capacity added to edge: o - b\n",
      "\n",
      "Adding x = 4  capacity\n",
      "Capacity added to edge: b - d\n",
      "\n",
      "Adding x = 5  capacity\n",
      "Capacity added to edge: o - b\n",
      "\n",
      "Adding x = 6  capacity\n",
      "Capacity added to edge: b - d\n",
      "\n",
      "Adding x = 7  capacity\n",
      "Capacity added to edge: o - b\n",
      "\n",
      "Adding x = 1  capacity\n",
      "Capacity added to edge: a - d\n",
      "\n",
      "Adding x = 2  capacity\n",
      "Capacity added to edge: b - d\n",
      "\n",
      "Adding x = 3  capacity\n",
      "Capacity added to edge: o - b\n",
      "\n",
      "Adding x = 4  capacity\n",
      "Capacity added to edge: b - d\n",
      "\n",
      "Adding x = 5  capacity\n",
      "Capacity added to edge: o - b\n",
      "\n",
      "Adding x = 6  capacity\n",
      "Capacity added to edge: b - d\n",
      "\n",
      "Adding x = 7  capacity\n",
      "Capacity added to edge: o - b\n",
      "\n",
      "Adding x = 8  capacity\n",
      "Capacity added to edge: b - d\n",
      "\n",
      "Adding x = 1  capacity\n",
      "Capacity added to edge: a - d\n",
      "\n",
      "Adding x = 2  capacity\n",
      "Capacity added to edge: b - d\n",
      "\n",
      "Adding x = 3  capacity\n",
      "Capacity added to edge: o - b\n",
      "\n",
      "Adding x = 4  capacity\n",
      "Capacity added to edge: b - d\n",
      "\n",
      "Adding x = 5  capacity\n",
      "Capacity added to edge: o - b\n",
      "\n",
      "Adding x = 6  capacity\n",
      "Capacity added to edge: b - d\n",
      "\n",
      "Adding x = 7  capacity\n",
      "Capacity added to edge: o - b\n",
      "\n",
      "Adding x = 8  capacity\n",
      "Capacity added to edge: b - d\n",
      "\n",
      "Adding x = 9  capacity\n",
      "Capacity added to edge: o - b\n",
      "\n",
      "Adding x = 1  capacity\n",
      "Capacity added to edge: a - d\n",
      "\n",
      "Adding x = 2  capacity\n",
      "Capacity added to edge: b - d\n",
      "\n",
      "Adding x = 3  capacity\n",
      "Capacity added to edge: o - b\n",
      "\n",
      "Adding x = 4  capacity\n",
      "Capacity added to edge: b - d\n",
      "\n",
      "Adding x = 5  capacity\n",
      "Capacity added to edge: o - b\n",
      "\n",
      "Adding x = 6  capacity\n",
      "Capacity added to edge: b - d\n",
      "\n",
      "Adding x = 7  capacity\n",
      "Capacity added to edge: o - b\n",
      "\n",
      "Adding x = 8  capacity\n",
      "Capacity added to edge: b - d\n",
      "\n",
      "Adding x = 9  capacity\n",
      "Capacity added to edge: o - b\n",
      "\n",
      "Adding x = 10  capacity\n",
      "Capacity added to edge: b - d\n",
      "\n",
      "Adding x = 1  capacity\n",
      "Capacity added to edge: a - d\n",
      "\n",
      "Adding x = 2  capacity\n",
      "Capacity added to edge: b - d\n",
      "\n",
      "Adding x = 3  capacity\n",
      "Capacity added to edge: o - b\n",
      "\n",
      "Adding x = 4  capacity\n",
      "Capacity added to edge: b - d\n",
      "\n",
      "Adding x = 5  capacity\n",
      "Capacity added to edge: o - b\n",
      "\n",
      "Adding x = 6  capacity\n",
      "Capacity added to edge: b - d\n",
      "\n",
      "Adding x = 7  capacity\n",
      "Capacity added to edge: o - b\n",
      "\n",
      "Adding x = 8  capacity\n",
      "Capacity added to edge: b - d\n",
      "\n",
      "Adding x = 9  capacity\n",
      "Capacity added to edge: o - b\n",
      "\n",
      "Adding x = 10  capacity\n",
      "Capacity added to edge: b - d\n",
      "\n",
      "Adding x = 11  capacity\n",
      "Capacity added to edge: o - b\n",
      "\n",
      "Adding x = 1  capacity\n",
      "Capacity added to edge: a - d\n",
      "\n",
      "Adding x = 2  capacity\n",
      "Capacity added to edge: b - d\n",
      "\n",
      "Adding x = 3  capacity\n",
      "Capacity added to edge: o - b\n",
      "\n",
      "Adding x = 4  capacity\n",
      "Capacity added to edge: b - d\n",
      "\n",
      "Adding x = 5  capacity\n",
      "Capacity added to edge: o - b\n",
      "\n",
      "Adding x = 6  capacity\n",
      "Capacity added to edge: b - d\n",
      "\n",
      "Adding x = 7  capacity\n",
      "Capacity added to edge: o - b\n",
      "\n",
      "Adding x = 8  capacity\n",
      "Capacity added to edge: b - d\n",
      "\n",
      "Adding x = 9  capacity\n",
      "Capacity added to edge: o - b\n",
      "\n",
      "Adding x = 10  capacity\n",
      "Capacity added to edge: b - d\n",
      "\n",
      "Adding x = 11  capacity\n",
      "Capacity added to edge: o - b\n",
      "\n",
      "Adding x = 12  capacity\n",
      "Capacity added to edge: b - d\n",
      "\n",
      "Adding x = 1  capacity\n",
      "Capacity added to edge: a - d\n",
      "\n",
      "Adding x = 2  capacity\n",
      "Capacity added to edge: b - d\n",
      "\n",
      "Adding x = 3  capacity\n",
      "Capacity added to edge: o - b\n",
      "\n",
      "Adding x = 4  capacity\n",
      "Capacity added to edge: b - d\n",
      "\n",
      "Adding x = 5  capacity\n",
      "Capacity added to edge: o - b\n",
      "\n",
      "Adding x = 6  capacity\n",
      "Capacity added to edge: b - d\n",
      "\n",
      "Adding x = 7  capacity\n",
      "Capacity added to edge: o - b\n",
      "\n",
      "Adding x = 8  capacity\n",
      "Capacity added to edge: b - d\n",
      "\n",
      "Adding x = 9  capacity\n",
      "Capacity added to edge: o - b\n",
      "\n",
      "Adding x = 10  capacity\n",
      "Capacity added to edge: b - d\n",
      "\n",
      "Adding x = 11  capacity\n",
      "Capacity added to edge: o - b\n",
      "\n",
      "Adding x = 12  capacity\n",
      "Capacity added to edge: b - d\n",
      "\n",
      "Adding x = 13  capacity\n",
      "Capacity added to edge: o - b\n",
      "\n",
      "Adding x = 1  capacity\n",
      "Capacity added to edge: a - d\n",
      "\n",
      "Adding x = 2  capacity\n",
      "Capacity added to edge: b - d\n",
      "\n",
      "Adding x = 3  capacity\n",
      "Capacity added to edge: o - b\n",
      "\n",
      "Adding x = 4  capacity\n",
      "Capacity added to edge: b - d\n",
      "\n",
      "Adding x = 5  capacity\n",
      "Capacity added to edge: o - b\n",
      "\n",
      "Adding x = 6  capacity\n",
      "Capacity added to edge: b - d\n",
      "\n",
      "Adding x = 7  capacity\n",
      "Capacity added to edge: o - b\n",
      "\n",
      "Adding x = 8  capacity\n",
      "Capacity added to edge: b - d\n",
      "\n",
      "Adding x = 9  capacity\n",
      "Capacity added to edge: o - b\n",
      "\n",
      "Adding x = 10  capacity\n",
      "Capacity added to edge: b - d\n",
      "\n",
      "Adding x = 11  capacity\n",
      "Capacity added to edge: o - b\n",
      "\n",
      "Adding x = 12  capacity\n",
      "Capacity added to edge: b - d\n",
      "\n",
      "Adding x = 13  capacity\n",
      "Capacity added to edge: o - b\n",
      "\n",
      "Adding x = 14  capacity\n",
      "Capacity added to edge: b - d\n",
      "[1, 2, 3, 4, 5, 6, 7, 8, 9, 10, 11, 12, 13, 14] \n",
      " [4, 4, 5, 5, 6, 6, 7, 7, 8, 8, 9, 9, 10, 10]\n"
     ]
    },
    {
     "data": {
      "image/png": "[encoded data removed]",
      "text/plain": [
       "<Figure size 640x480 with 1 Axes>"
      ]
     },
     "metadata": {},
     "output_type": "display_data"
    }
   ],
   "source": [
    "nx.draw_networkx_edge_labels(G,pos, font_color='red')\n",
    "nx.draw(G, pos, with_labels = True)\n",
    "info(G)\n",
    "\n",
    "#final function requested by exercise 3.c\n",
    "def adding_Capacity_Optimizer(G, x):\n",
    "    oldMinCutV = nx.minimum_cut_value(G, \"o\", \"d\")\n",
    "    #iterate for n = capacity units to be assigned\n",
    "    for i in range(1, x + 1):\n",
    "        print('\\nAdding x =', i,' capacity')\n",
    "        #find the edges in common between the cut edges of the current minimum cut\n",
    "        #and the edges belonging to the shortest path \n",
    "        intersection_edges = intersection(findEdgesMinCut(G), shortest_paths_edges(G))\n",
    "        \n",
    "        #iterate over the intersection of those edges adding the capacity only if the maximum capacity increases\n",
    "        #(oldMinCutV < newMinCutV) or when there is no other edge to add the capacity to in the intersection_edges.\n",
    "        #That is the last one\n",
    "        for i, e in enumerate(intersection_edges):\n",
    "            G[e[0]][e[1]]['capacity'] = G[e[0]][e[1]]['capacity'] + 1\n",
    "            newMinCutV = nx.minimum_cut_value(G1, \"o\", \"d\")\n",
    "            #info(G1)\n",
    "            if oldMinCutV < newMinCutV or i == len(intersection_edges)-1:\n",
    "                oldMinCutV = newMinCutV\n",
    "                print('Capacity added to edge:',e[0],'-',e[1])\n",
    "                break\n",
    "            else:\n",
    "                G[e[0]][e[1]]['capacity'] = G[e[0]][e[1]]['capacity'] - 1\n",
    "    \n",
    "    #return the maximum throughput\n",
    "    return oldMinCutV\n",
    "\n",
    "#create arrays to plot the results\n",
    "y = []\n",
    "for x in range(1, 15):\n",
    "    G1 = nx.DiGraph(G)\n",
    "    y.append(adding_Capacity_Optimizer(G1, x))\n",
    "x = [*range(1, 15)]\n",
    "print(x, '\\n', y)"
   ]
  },
  {
   "cell_type": "code",
   "execution_count": 263,
   "id": "db736f12",
   "metadata": {
    "scrolled": true
   },
   "outputs": [
    {
     "data": {
      "image/png": "[encoded data removed]",
      "text/plain": [
       "<Figure size 640x480 with 1 Axes>"
      ]
     },
     "metadata": {},
     "output_type": "display_data"
    }
   ],
   "source": [
    "import matplotlib.pyplot as plt\n",
    "plt.plot(x, y)\n",
    "\n",
    "plt.xlabel('Capacity Added (x)')\n",
    "plt.ylabel('Max Flow')\n",
    "\n",
    "plt.show()\n"
   ]
  },
  {
   "cell_type": "markdown",
   "id": "ea1b81a4",
   "metadata": {},
   "source": [
    "# Exercise 2"
   ]
  },
  {
   "cell_type": "markdown",
   "id": "308b830f",
   "metadata": {},
   "source": [
    "### Exercise 2.a"
   ]
  },
  {
   "cell_type": "code",
   "execution_count": 264,
   "id": "c4780257",
   "metadata": {
    "scrolled": true
   },
   "outputs": [
    {
     "name": "stdout",
     "output_type": "stream",
     "text": [
      "perfect matching exist !\n",
      "(4, {'p1': {'b1': 0, 'b2': 1, 'o': 0}, 'b1': {'p1': 0, 'p3': 0, 'p4': 0, 'd': 1}, 'b2': {'p1': 0, 'p2': 0, 'p4': 0, 'd': 1}, 'p2': {'b2': 0, 'b3': 1, 'o': 0}, 'b3': {'p2': 0, 'd': 1}, 'p3': {'b4': 1, 'b1': 0, 'o': 0}, 'b4': {'p3': 0, 'p4': 0, 'd': 1}, 'p4': {'b1': 1, 'b2': 0, 'b4': 0, 'o': 0}, 'o': {'p1': 1, 'p2': 1, 'p3': 1, 'p4': 1}, 'd': {'b1': 0, 'b2': 0, 'b3': 0, 'b4': 0}})\n"
     ]
    },
    {
     "data": {
      "image/png": "[encoded data removed]",
      "text/plain": [
       "<Figure size 640x480 with 1 Axes>"
      ]
     },
     "metadata": {},
     "output_type": "display_data"
    }
   ],
   "source": [
    "import math\n",
    "\n",
    "G = nx.Graph()\n",
    "original_edges = [('p1','b1'), ('p1','b2'), ('p2','b2'), ('p2','b3'), ('p3','b4'),\\\n",
    "                  ('p3','b1'), ('p4','b1'), ('p4','b2'), ('p4','b4')]\n",
    "added_edges = [('o', 'p1'), ('o', 'p2'), ('o', 'p3'), ('o', 'p4'),\n",
    "                  ('d', 'b1'), ('d', 'b2'), ('d', 'b3'), ('d', 'b4')]\n",
    "\n",
    "G.add_edges_from(original_edges)\n",
    "G.add_edges_from(added_edges)\n",
    "\n",
    "pos = {'o':[-2, 3], 'p1':[0,0], 'p2':[0,2], 'p3':[0,4], 'p4':[0,6], 'b1':[2,0], 'b2':[2,2], 'b3':[2,4], 'b4':[2,6], 'd':[4,3] }\n",
    "\n",
    "\n",
    "#assigning infinite capacity to the original edges of the graph\n",
    "for e in original_edges:\n",
    "    G[e[0]][e[1]]['capacity'] = math.inf\n",
    "    \n",
    "#assigning one capacity to the original edges of the graph\n",
    "for e in added_edges:\n",
    "    G[e[0]][e[1]]['capacity'] = 1\n",
    "\n",
    "numberOfPeople = []\n",
    "#iterate over the original_edges in order to get the all vertixes representing a person\n",
    "for e in original_edges:\n",
    "    if e[0][0] == 'p':\n",
    "        numberOfPeople.append(e[0])\n",
    "    \n",
    "    if e[1][0] == 'p':\n",
    "        numberOfPeople.append(e[1])\n",
    "        \n",
    "numberOfBooks= []\n",
    "#iterate over the original_edges in order to get the all vertixes representing a bpok\n",
    "for e in original_edges:\n",
    "    if e[0][0] == 'b':\n",
    "        numberOfBooks.append(e[0])\n",
    "    \n",
    "    if e[1][0] == 'b':\n",
    "        numberOfBooks.append(e[1])    \n",
    "\n",
    "#making sure no person or book appears more then one time\n",
    "numberOfPeople = list(set(numberOfPeople))\n",
    "numberOfBooks = list(set(numberOfBooks))\n",
    "\n",
    "\n",
    "#number of people =  minimum cut? if yes perfect matching exist\n",
    "if nx.minimum_cut_value(G, \"o\", \"d\") == len(numberOfPeople) and len(numberOfPeople) == len(numberOfBooks):\n",
    "    print('perfect matching exist !')\n",
    "\n",
    "res = nx.maximum_flow(G, \"o\", \"d\")\n",
    "print(res)\n",
    "    \n",
    "nx.draw_networkx_edge_labels(G,pos, )\n",
    "nx.draw(G, pos, with_labels = True, node_color = \"red\")\n",
    "    "
   ]
  },
  {
   "cell_type": "markdown",
   "id": "55d06e76",
   "metadata": {},
   "source": [
    "### Exercise 2.b"
   ]
  },
  {
   "cell_type": "markdown",
   "id": "23c85eff",
   "metadata": {},
   "source": [
    "Let’s change the capacity of the final edges in\n",
    "order to mimic the new number of books available.\n",
    "To model multiple copies of a book, a new capacity\n",
    "of edge (bi, d) equal to the number of copies of\n",
    "bi is added. Additionally another capacity of edge\n",
    "(o, pj ) equals to the number of book they are\n",
    "interest in. One person will be satisfied if they\n",
    "have one copy of each book of their interest. The\n",
    "capacity of edge (pj , bi) remains 1 as the person\n",
    "can only get 1 copy of the same book"
   ]
  },
  {
   "cell_type": "code",
   "execution_count": 265,
   "id": "899d4023",
   "metadata": {},
   "outputs": [
    {
     "data": {
      "text/plain": [
       "8"
      ]
     },
     "execution_count": 265,
     "metadata": {},
     "output_type": "execute_result"
    },
    {
     "data": {
      "image/png": "[encoded data removed]",
      "text/plain": [
       "<Figure size 640x480 with 1 Axes>"
      ]
     },
     "metadata": {},
     "output_type": "display_data"
    }
   ],
   "source": [
    "G['b1']['d']['capacity'] = 2\n",
    "G['b2']['d']['capacity'] = 3\n",
    "G['b3']['d']['capacity'] = 2\n",
    "G['b4']['d']['capacity'] = 2\n",
    "G['o']['p1']['capacity'] = 2\n",
    "G['o']['p2']['capacity'] = 2\n",
    "G['o']['p3']['capacity'] = 2\n",
    "G['o']['p4']['capacity'] = 3\n",
    "\n",
    "for e in original_edges:\n",
    "    G[e[0]][e[1]]['capacity'] = 1\n",
    "\n",
    "nx.draw_networkx_edge_labels(G,pos, font_color='red')\n",
    "nx.draw(G, pos, with_labels = True)\n",
    "\n",
    "#the new maximum capacity is 8, so all books but one have been succesfully assigned\n",
    "nx.minimum_cut_value(G, \"o\", \"d\")"
   ]
  },
  {
   "cell_type": "code",
   "execution_count": 266,
   "id": "9da61d8c",
   "metadata": {},
   "outputs": [
    {
     "data": {
      "text/plain": [
       "(8,\n",
       " {'p1': {'b1': 0, 'b2': 1, 'o': 0},\n",
       "  'b1': {'p1': 0, 'p3': 0, 'p4': 0, 'd': 2},\n",
       "  'b2': {'p1': 0, 'p2': 0, 'p4': 0, 'd': 3},\n",
       "  'p2': {'b2': 1, 'b3': 1, 'o': 0},\n",
       "  'b3': {'p2': 0, 'd': 1},\n",
       "  'p3': {'b4': 1, 'b1': 1, 'o': 0},\n",
       "  'b4': {'p3': 0, 'p4': 0, 'd': 2},\n",
       "  'p4': {'b1': 1, 'b2': 1, 'b4': 1, 'o': 0},\n",
       "  'o': {'p1': 1, 'p2': 2, 'p3': 2, 'p4': 3},\n",
       "  'd': {'b1': 0, 'b2': 0, 'b3': 0, 'b4': 0}})"
      ]
     },
     "execution_count": 266,
     "metadata": {},
     "output_type": "execute_result"
    }
   ],
   "source": [
    "res = nx.maximum_flow(G, \"o\", \"d\")\n",
    "res"
   ]
  },
  {
   "cell_type": "markdown",
   "id": "20b2f124",
   "metadata": {},
   "source": [
    "### Exercise 2.c"
   ]
  },
  {
   "cell_type": "markdown",
   "id": "d5652189",
   "metadata": {},
   "source": [
    "Since the library can sell 1 copy of a book and buy a copy of another one, based on the results above we can see that $P_1$ is interested in $B_1$ but cannot take it.\n",
    "Infact, there are only 2 copies but three person interested.\n",
    "\n",
    "Instead, $B_3$ (which the library has 3 copies of), has only 1 person interested in it. \n",
    "\n",
    "Therefore, buy another one of $B_1$ and the library should sell 1 copy of $B_3$."
   ]
  },
  {
   "cell_type": "code",
   "execution_count": 267,
   "id": "fe42b936",
   "metadata": {},
   "outputs": [
    {
     "data": {
      "text/plain": [
       "(9,\n",
       " {'p1': {'b1': 1, 'b2': 1, 'o': 0},\n",
       "  'b1': {'p1': 0, 'p3': 0, 'p4': 0, 'd': 3},\n",
       "  'b2': {'p1': 0, 'p2': 0, 'p4': 0, 'd': 3},\n",
       "  'p2': {'b2': 1, 'b3': 1, 'o': 0},\n",
       "  'b3': {'p2': 0, 'd': 1},\n",
       "  'p3': {'b4': 1, 'b1': 1, 'o': 0},\n",
       "  'b4': {'p3': 0, 'p4': 0, 'd': 2},\n",
       "  'p4': {'b1': 1, 'b2': 1, 'b4': 1, 'o': 0},\n",
       "  'o': {'p1': 2, 'p2': 2, 'p3': 2, 'p4': 3},\n",
       "  'd': {'b1': 0, 'b2': 0, 'b3': 0, 'b4': 0}})"
      ]
     },
     "execution_count": 267,
     "metadata": {},
     "output_type": "execute_result"
    }
   ],
   "source": [
    "new_copies = [3, 3, 1, 2]\n",
    "\n",
    "G['b1']['d']['capacity'] = 3\n",
    "G['b2']['d']['capacity'] = 3\n",
    "G['b3']['d']['capacity'] = 1\n",
    "G['b4']['d']['capacity'] = 2\n",
    "\n",
    "res = nx.maximum_flow(G, \"o\", \"d\")\n",
    "res"
   ]
  },
  {
   "cell_type": "markdown",
   "id": "85e36583",
   "metadata": {},
   "source": [
    "## Exercise 3\n",
    "Let's build the graph described in the exercise"
   ]
  },
  {
   "cell_type": "code",
   "execution_count": 1,
   "id": "8a7a6a7b",
   "metadata": {},
   "outputs": [
    {
     "ename": "FileNotFoundError",
     "evalue": "[Errno 2] No such file or directory: 'capacities.mat'",
     "output_type": "error",
     "traceback": [
      "\u001b[1;31m---------------------------------------------------------------------------\u001b[0m",
      "\u001b[1;31mFileNotFoundError\u001b[0m                         Traceback (most recent call last)",
      "File \u001b[1;32m~\\anaconda3\\lib\\site-packages\\scipy\\io\\matlab\\_mio.py:39\u001b[0m, in \u001b[0;36m_open_file\u001b[1;34m(file_like, appendmat, mode)\u001b[0m\n\u001b[0;32m     38\u001b[0m \u001b[38;5;28;01mtry\u001b[39;00m:\n\u001b[1;32m---> 39\u001b[0m     \u001b[38;5;28;01mreturn\u001b[39;00m \u001b[38;5;28;43mopen\u001b[39;49m\u001b[43m(\u001b[49m\u001b[43mfile_like\u001b[49m\u001b[43m,\u001b[49m\u001b[43m \u001b[49m\u001b[43mmode\u001b[49m\u001b[43m)\u001b[49m, \u001b[38;5;28;01mTrue\u001b[39;00m\n\u001b[0;32m     40\u001b[0m \u001b[38;5;28;01mexcept\u001b[39;00m \u001b[38;5;167;01mOSError\u001b[39;00m \u001b[38;5;28;01mas\u001b[39;00m e:\n\u001b[0;32m     41\u001b[0m     \u001b[38;5;66;03m# Probably \"not found\"\u001b[39;00m\n",
      "\u001b[1;31mFileNotFoundError\u001b[0m: [Errno 2] No such file or directory: 'capacities.mat'",
      "\nDuring handling of the above exception, another exception occurred:\n",
      "\u001b[1;31mFileNotFoundError\u001b[0m                         Traceback (most recent call last)",
      "Cell \u001b[1;32mIn [1], line 6\u001b[0m\n\u001b[0;32m      2\u001b[0m \u001b[38;5;28;01mimport\u001b[39;00m \u001b[38;5;21;01mscipy\u001b[39;00m\n\u001b[0;32m      3\u001b[0m \u001b[38;5;28;01mimport\u001b[39;00m \u001b[38;5;21;01mcvxpy\u001b[39;00m \u001b[38;5;28;01mas\u001b[39;00m \u001b[38;5;21;01mcp\u001b[39;00m\n\u001b[1;32m----> 6\u001b[0m C \u001b[38;5;241m=\u001b[39m \u001b[43mscipy\u001b[49m\u001b[38;5;241;43m.\u001b[39;49m\u001b[43mio\u001b[49m\u001b[38;5;241;43m.\u001b[39;49m\u001b[43mloadmat\u001b[49m\u001b[43m(\u001b[49m\u001b[38;5;124;43m'\u001b[39;49m\u001b[38;5;124;43mcapacities.mat\u001b[39;49m\u001b[38;5;124;43m'\u001b[39;49m\u001b[43m)\u001b[49m[\u001b[38;5;124m\"\u001b[39m\u001b[38;5;124mcapacities\u001b[39m\u001b[38;5;124m\"\u001b[39m]\u001b[38;5;241m.\u001b[39mreshape(\u001b[38;5;241m28\u001b[39m,)\n\u001b[0;32m      7\u001b[0m B \u001b[38;5;241m=\u001b[39m scipy\u001b[38;5;241m.\u001b[39mio\u001b[38;5;241m.\u001b[39mloadmat(\u001b[38;5;124m'\u001b[39m\u001b[38;5;124mtraffic.mat\u001b[39m\u001b[38;5;124m'\u001b[39m)[\u001b[38;5;124m\"\u001b[39m\u001b[38;5;124mtraffic\u001b[39m\u001b[38;5;124m\"\u001b[39m]\n\u001b[0;32m      8\u001b[0m l \u001b[38;5;241m=\u001b[39m scipy\u001b[38;5;241m.\u001b[39mio\u001b[38;5;241m.\u001b[39mloadmat(\u001b[38;5;124m'\u001b[39m\u001b[38;5;124mtraveltime.mat\u001b[39m\u001b[38;5;124m'\u001b[39m)[\u001b[38;5;124m\"\u001b[39m\u001b[38;5;124mtraveltime\u001b[39m\u001b[38;5;124m\"\u001b[39m]\u001b[38;5;241m.\u001b[39mreshape(\u001b[38;5;241m28\u001b[39m,)\n",
      "File \u001b[1;32m~\\anaconda3\\lib\\site-packages\\scipy\\io\\matlab\\_mio.py:224\u001b[0m, in \u001b[0;36mloadmat\u001b[1;34m(file_name, mdict, appendmat, **kwargs)\u001b[0m\n\u001b[0;32m     87\u001b[0m \u001b[38;5;124;03m\"\"\"\u001b[39;00m\n\u001b[0;32m     88\u001b[0m \u001b[38;5;124;03mLoad MATLAB file.\u001b[39;00m\n\u001b[0;32m     89\u001b[0m \n\u001b[1;32m   (...)\u001b[0m\n\u001b[0;32m    221\u001b[0m \u001b[38;5;124;03m    3.14159265+3.14159265j])\u001b[39;00m\n\u001b[0;32m    222\u001b[0m \u001b[38;5;124;03m\"\"\"\u001b[39;00m\n\u001b[0;32m    223\u001b[0m variable_names \u001b[38;5;241m=\u001b[39m kwargs\u001b[38;5;241m.\u001b[39mpop(\u001b[38;5;124m'\u001b[39m\u001b[38;5;124mvariable_names\u001b[39m\u001b[38;5;124m'\u001b[39m, \u001b[38;5;28;01mNone\u001b[39;00m)\n\u001b[1;32m--> 224\u001b[0m \u001b[38;5;28;01mwith\u001b[39;00m _open_file_context(file_name, appendmat) \u001b[38;5;28;01mas\u001b[39;00m f:\n\u001b[0;32m    225\u001b[0m     MR, _ \u001b[38;5;241m=\u001b[39m mat_reader_factory(f, \u001b[38;5;241m*\u001b[39m\u001b[38;5;241m*\u001b[39mkwargs)\n\u001b[0;32m    226\u001b[0m     matfile_dict \u001b[38;5;241m=\u001b[39m MR\u001b[38;5;241m.\u001b[39mget_variables(variable_names)\n",
      "File \u001b[1;32m~\\anaconda3\\lib\\contextlib.py:119\u001b[0m, in \u001b[0;36m_GeneratorContextManager.__enter__\u001b[1;34m(self)\u001b[0m\n\u001b[0;32m    117\u001b[0m \u001b[38;5;28;01mdel\u001b[39;00m \u001b[38;5;28mself\u001b[39m\u001b[38;5;241m.\u001b[39margs, \u001b[38;5;28mself\u001b[39m\u001b[38;5;241m.\u001b[39mkwds, \u001b[38;5;28mself\u001b[39m\u001b[38;5;241m.\u001b[39mfunc\n\u001b[0;32m    118\u001b[0m \u001b[38;5;28;01mtry\u001b[39;00m:\n\u001b[1;32m--> 119\u001b[0m     \u001b[38;5;28;01mreturn\u001b[39;00m \u001b[38;5;28;43mnext\u001b[39;49m\u001b[43m(\u001b[49m\u001b[38;5;28;43mself\u001b[39;49m\u001b[38;5;241;43m.\u001b[39;49m\u001b[43mgen\u001b[49m\u001b[43m)\u001b[49m\n\u001b[0;32m    120\u001b[0m \u001b[38;5;28;01mexcept\u001b[39;00m \u001b[38;5;167;01mStopIteration\u001b[39;00m:\n\u001b[0;32m    121\u001b[0m     \u001b[38;5;28;01mraise\u001b[39;00m \u001b[38;5;167;01mRuntimeError\u001b[39;00m(\u001b[38;5;124m\"\u001b[39m\u001b[38;5;124mgenerator didn\u001b[39m\u001b[38;5;124m'\u001b[39m\u001b[38;5;124mt yield\u001b[39m\u001b[38;5;124m\"\u001b[39m) \u001b[38;5;28;01mfrom\u001b[39;00m \u001b[38;5;28mNone\u001b[39m\n",
      "File \u001b[1;32m~\\anaconda3\\lib\\site-packages\\scipy\\io\\matlab\\_mio.py:17\u001b[0m, in \u001b[0;36m_open_file_context\u001b[1;34m(file_like, appendmat, mode)\u001b[0m\n\u001b[0;32m     15\u001b[0m \u001b[38;5;129m@contextmanager\u001b[39m\n\u001b[0;32m     16\u001b[0m \u001b[38;5;28;01mdef\u001b[39;00m \u001b[38;5;21m_open_file_context\u001b[39m(file_like, appendmat, mode\u001b[38;5;241m=\u001b[39m\u001b[38;5;124m'\u001b[39m\u001b[38;5;124mrb\u001b[39m\u001b[38;5;124m'\u001b[39m):\n\u001b[1;32m---> 17\u001b[0m     f, opened \u001b[38;5;241m=\u001b[39m \u001b[43m_open_file\u001b[49m\u001b[43m(\u001b[49m\u001b[43mfile_like\u001b[49m\u001b[43m,\u001b[49m\u001b[43m \u001b[49m\u001b[43mappendmat\u001b[49m\u001b[43m,\u001b[49m\u001b[43m \u001b[49m\u001b[43mmode\u001b[49m\u001b[43m)\u001b[49m\n\u001b[0;32m     18\u001b[0m     \u001b[38;5;28;01mtry\u001b[39;00m:\n\u001b[0;32m     19\u001b[0m         \u001b[38;5;28;01myield\u001b[39;00m f\n",
      "File \u001b[1;32m~\\anaconda3\\lib\\site-packages\\scipy\\io\\matlab\\_mio.py:45\u001b[0m, in \u001b[0;36m_open_file\u001b[1;34m(file_like, appendmat, mode)\u001b[0m\n\u001b[0;32m     43\u001b[0m     \u001b[38;5;28;01mif\u001b[39;00m appendmat \u001b[38;5;129;01mand\u001b[39;00m \u001b[38;5;129;01mnot\u001b[39;00m file_like\u001b[38;5;241m.\u001b[39mendswith(\u001b[38;5;124m'\u001b[39m\u001b[38;5;124m.mat\u001b[39m\u001b[38;5;124m'\u001b[39m):\n\u001b[0;32m     44\u001b[0m         file_like \u001b[38;5;241m+\u001b[39m\u001b[38;5;241m=\u001b[39m \u001b[38;5;124m'\u001b[39m\u001b[38;5;124m.mat\u001b[39m\u001b[38;5;124m'\u001b[39m\n\u001b[1;32m---> 45\u001b[0m     \u001b[38;5;28;01mreturn\u001b[39;00m \u001b[38;5;28;43mopen\u001b[39;49m\u001b[43m(\u001b[49m\u001b[43mfile_like\u001b[49m\u001b[43m,\u001b[49m\u001b[43m \u001b[49m\u001b[43mmode\u001b[49m\u001b[43m)\u001b[49m, \u001b[38;5;28;01mTrue\u001b[39;00m\n\u001b[0;32m     46\u001b[0m \u001b[38;5;28;01melse\u001b[39;00m:\n\u001b[0;32m     47\u001b[0m     \u001b[38;5;28;01mraise\u001b[39;00m \u001b[38;5;167;01mOSError\u001b[39;00m(\n\u001b[0;32m     48\u001b[0m         \u001b[38;5;124m'\u001b[39m\u001b[38;5;124mReader needs file name or open file-like object\u001b[39m\u001b[38;5;124m'\u001b[39m\n\u001b[0;32m     49\u001b[0m     ) \u001b[38;5;28;01mfrom\u001b[39;00m \u001b[38;5;21;01me\u001b[39;00m\n",
      "\u001b[1;31mFileNotFoundError\u001b[0m: [Errno 2] No such file or directory: 'capacities.mat'"
     ]
    }
   ],
   "source": [
    "import numpy as np\n",
    "import scipy\n",
    "import cvxpy as cp\n",
    "\n",
    "\n",
    "C = scipy.io.loadmat('capacities.mat')[\"capacities\"].reshape(28,)\n",
    "B = scipy.io.loadmat('traffic.mat')[\"traffic\"]\n",
    "l = scipy.io.loadmat('traveltime.mat')[\"traveltime\"].reshape(28,)"
   ]
  },
  {
   "cell_type": "code",
   "execution_count": 269,
   "id": "e59de759",
   "metadata": {},
   "outputs": [
    {
     "data": {
      "text/plain": [
       "array([ 8741,  9864, 13350, 10926, 13707,  6960,  7422,  6678,  6297,\n",
       "       11102,  8899,  8970,  9753,  9719,  9083,  7416, 13353, 11216,\n",
       "       10947, 10019,  8732, 10763,  6677,  9403, 10355,  9067, 11990,\n",
       "        8258], dtype=uint16)"
      ]
     },
     "execution_count": 269,
     "metadata": {},
     "output_type": "execute_result"
    }
   ],
   "source": [
    "C # 28\n",
    "#B #The rows of B are associated with the nodes of the network and the columns (28x17)\n",
    "#of B with the links.\n",
    "#l #28"
   ]
  },
  {
   "cell_type": "markdown",
   "id": "866739d7",
   "metadata": {},
   "source": [
    "### Exercise 3.a"
   ]
  },
  {
   "cell_type": "code",
   "execution_count": 270,
   "id": "31ddb6da",
   "metadata": {},
   "outputs": [
    {
     "name": "stdout",
     "output_type": "stream",
     "text": [
      "28\n",
      "Optimal f: [1, 1, 0, 0, 0, 0, 0, 0, 1, 0, 0, 1, 0, 0, 0, 0, 0, 0, 0, 0, 0, 0, 0, 0, 1, 0, 0, 0]\n",
      "shortest path: [(1, 2), (2, 3), (9, 13), (3, 9), (13, 17)]\n"
     ]
    }
   ],
   "source": [
    "import cvxpy as cp\n",
    "import numpy as np\n",
    "n_edges = B.shape[1]\n",
    "print(n_edges)\n",
    "tau = 1\n",
    "nu = np.array([1, 0, 0, 0, 0, 0, 0, 0, 0, 0, 0, 0, 0, 0, 0, 0, -1]) * tau\n",
    "f = cp.Variable(n_edges)\n",
    "objective = cp.Minimize(l.T @ f)\n",
    "constraints = [B @ f == nu, f >=0, f <= C]\n",
    "prob = cp.Problem(objective, constraints)\n",
    "result = prob.solve()\n",
    "rounded_opt_f = [round(v) for v in f.value] #we are interested if it's taken or not (1/0).\n",
    "print(\"Optimal f:\", rounded_opt_f)\n",
    "\n",
    "shortest_path = []\n",
    "\n",
    "for i1 in range(B.shape[1]):\n",
    "    \n",
    "  for i2 in range(B.shape[0]):\n",
    "    \n",
    "    if B[i2][i1] == 1:\n",
    "      v1 = i2+1\n",
    "    \n",
    "    if B[i2][i1] == -1:\n",
    "      v2 = i2+1\n",
    "    \n",
    "  if rounded_opt_f[i1] == 1:    \n",
    "    shortest_path.append((v1,v2))\n",
    "    \n",
    "    \n",
    "print(\"shortest path:\", shortest_path)\n"
   ]
  },
  {
   "cell_type": "markdown",
   "id": "e2d5408b",
   "metadata": {},
   "source": [
    "### Exercise 3.b"
   ]
  },
  {
   "cell_type": "code",
   "execution_count": 271,
   "id": "d28eacb7",
   "metadata": {},
   "outputs": [
    {
     "name": "stdout",
     "output_type": "stream",
     "text": [
      "max flow is: 22448\n"
     ]
    }
   ],
   "source": [
    "n_edges = B.shape[1]\n",
    "tau = 1\n",
    "#in order to find the maximum capacity we iterate over a range of probable \n",
    "#maximum flow values\n",
    "for x in range(20000, 30000):\n",
    "    nu = np.array([x, 0, 0, 0, 0, 0, 0, 0, 0, 0, 0, 0, 0, 0, 0, 0, -x]) * tau\n",
    "    f = cp.Variable(n_edges)\n",
    "    I = np.ones(n_edges)\n",
    "    objective = cp.Maximize(I@f)\n",
    "    constraints = [B @ f == nu, f >=0, f <= C]\n",
    "    prob = cp.Problem(objective, constraints)\n",
    "    prob.solve()\n",
    "    #if None values is returned the maximum capacity is reached in the previous cycle\n",
    "    #therefore is enough to select the flow of the previous cycle subtracting one\n",
    "    if f.value is None:\n",
    "        x = x - 1\n",
    "        print('max flow is:', x)\n",
    "        break"
   ]
  },
  {
   "cell_type": "markdown",
   "id": "cf5014ad",
   "metadata": {},
   "source": [
    "### Exercise 3.c"
   ]
  },
  {
   "cell_type": "code",
   "execution_count": 272,
   "id": "90ebef45",
   "metadata": {
    "scrolled": true
   },
   "outputs": [
    {
     "name": "stdout",
     "output_type": "stream",
     "text": [
      "16806\n"
     ]
    }
   ],
   "source": [
    "f = scipy.io.loadmat('flow.mat')[\"flow\"].reshape(28,)\n",
    "v = B@f\n",
    "print(v[0])"
   ]
  },
  {
   "cell_type": "markdown",
   "id": "eb41c716",
   "metadata": {},
   "source": [
    "### Exercise 3.d"
   ]
  },
  {
   "cell_type": "code",
   "execution_count": 273,
   "id": "6d53e95d",
   "metadata": {},
   "outputs": [
    {
     "name": "stdout",
     "output_type": "stream",
     "text": [
      "28\n",
      "Optimal f: [6642, 6059, 3132, 3132, 10164, 4638, 3006, 2543, 3132, 583, 0, 2927, 0, 3132, 5525, 2854, 4886, 2215, 464, 2338, 3318, 5656, 2373, 0, 6414, 5505, 4886, 4886]\n"
     ]
    }
   ],
   "source": [
    "import cvxpy as cp\n",
    "import numpy as np\n",
    "n_edges = B.shape[1]\n",
    "print(n_edges)\n",
    "tau = v[0]\n",
    "nu = np.array([1, 0, 0, 0, 0, 0, 0, 0, 0, 0, 0, 0, 0, 0, 0, 0, -1]) * tau\n",
    "f = cp.Variable(n_edges)\n",
    "I = np.ones(n_edges)\n",
    "objective = cp.Minimize((l*C)@cp.inv_pos(I - f/C) - l.T@C)\n",
    "constraints = [B @ f == nu, f >=0, f <= C]\n",
    "prob = cp.Problem(objective, constraints)\n",
    "prob.solve()\n",
    "not_rounded_optimal_f = f.value\n",
    "optimal_f = [round(v) for v in f.value]\n",
    "print(\"Optimal f:\", optimal_f)"
   ]
  },
  {
   "cell_type": "markdown",
   "id": "91b9ff84",
   "metadata": {},
   "source": [
    "### Exercise 3.e"
   ]
  },
  {
   "cell_type": "code",
   "execution_count": 274,
   "id": "573c846d",
   "metadata": {},
   "outputs": [
    {
     "name": "stdout",
     "output_type": "stream",
     "text": [
      "28\n",
      "wardrop_flow: [6716, 6716, 2367, 2367, 10090, 4645, 2804, 2284, 3418, 0, 177, 4171, 0, 2367, 5445, 2353, 4933, 1842, 697, 3036, 3050, 6087, 2587, 0, 6919, 4954, 4933, 4933]\n"
     ]
    }
   ],
   "source": [
    "import math as m\n",
    "import cvxpy as cp\n",
    "import numpy as np\n",
    "\n",
    "\n",
    "C = scipy.io.loadmat('capacities.mat')[\"capacities\"].reshape(28,)\n",
    "B = scipy.io.loadmat('traffic.mat')[\"traffic\"]\n",
    "l = scipy.io.loadmat('traveltime.mat')[\"traveltime\"].reshape(28,)\n",
    "\n",
    "n_edges = B.shape[1]\n",
    "print(n_edges)\n",
    "tau = v[0]\n",
    "nu = np.array([1, 0, 0, 0, 0, 0, 0, 0, 0, 0, 0, 0, 0, 0, 0, 0, -1]) * tau\n",
    "f = cp.Variable(n_edges)\n",
    "I = np.ones(n_edges)\n",
    "\n",
    "#((l*C).T @ (cp.log(C) @ cp.inv_pos(cp.log(C - f)))) se mettevo questo non funzionava: PERCHè\n",
    "objective = cp.Minimize(((l*C).T @ (cp.log(C) - cp.log(C - f)))) \n",
    "constraints = [B @ f == nu, f >=0, f <= C -1]\n",
    "prob = cp.Problem(objective, constraints)\n",
    "prob.solve()\n",
    "wardrop_f = [round(v) for v in f.value]\n",
    "print(\"wardrop_flow:\", wardrop_f)"
   ]
  },
  {
   "cell_type": "code",
   "execution_count": 275,
   "id": "fef13261",
   "metadata": {},
   "outputs": [
    {
     "name": "stdout",
     "output_type": "stream",
     "text": [
      "Wardrop cost: 26292.357750911066\n"
     ]
    }
   ],
   "source": [
    "#function that calculates the social optimum cost.\n",
    "def tot_cost(f, l, c):    \n",
    "  return np.sum(((l*c)/(np.ones(len(f))- f/c)) - l*c)\n",
    "\n",
    "\n",
    "wardrop_cost = tot_cost(f = wardrop_f, l=l, c=C)\n",
    "print(\"Wardrop cost:\", wardrop_cost)"
   ]
  },
  {
   "cell_type": "markdown",
   "id": "1cd865ff",
   "metadata": {},
   "source": [
    "### Exercise 3.e'"
   ]
  },
  {
   "cell_type": "code",
   "execution_count": 276,
   "id": "3de0f3af",
   "metadata": {},
   "outputs": [
    {
     "name": "stdout",
     "output_type": "stream",
     "text": [
      "[6643, 6059, 3132, 3132, 10163, 4638, 3006, 2542, 3131, 584, 0, 2927, 0, 3132, 5525, 2854, 4886, 2216, 464, 2337, 3318, 5656, 2373, 0, 6414, 5506, 4886, 4886]\n"
     ]
    }
   ],
   "source": [
    "#omega is defined and added to the objective function.\n",
    "omegas = ((l*(C) / (C - not_rounded_optimal_f)**2))* not_rounded_optimal_f\n",
    "objective = cp.Minimize(((l*C).T @ (cp.log(C) - cp.log(C - f)))  + omegas.T@f ) #the result of the sum of the costs.\n",
    "prob = cp.Problem(objective, constraints)\n",
    "prob.solve()\n",
    "wardrop_flow_with_tolls = [round(v) for v in f.value]\n",
    "\n",
    "print(wardrop_flow_with_tolls)"
   ]
  },
  {
   "cell_type": "code",
   "execution_count": 277,
   "id": "01292b57",
   "metadata": {},
   "outputs": [
    {
     "name": "stdout",
     "output_type": "stream",
     "text": [
      "Wardrop cost: 25942.48725039416\n"
     ]
    }
   ],
   "source": [
    "wardrop_cost = tot_cost(f = wardrop_flow_with_tolls, l=l, c=C) #cost funxtion(tridente) is always t5he same\n",
    "print(\"Wardrop cost:\", wardrop_cost)"
   ]
  },
  {
   "cell_type": "code",
   "execution_count": 278,
   "id": "46b945ed",
   "metadata": {},
   "outputs": [],
   "source": [
    "#wardrop_flow and wardrop_flow_with_tolls are the same \n",
    "#(tolls push the flow to distrubute itself as in the the social optimum case)"
   ]
  },
  {
   "cell_type": "markdown",
   "id": "2629c175",
   "metadata": {},
   "source": [
    "### Exercise 3.f"
   ]
  },
  {
   "cell_type": "code",
   "execution_count": 279,
   "id": "4e85ee06",
   "metadata": {},
   "outputs": [
    {
     "name": "stdout",
     "output_type": "stream",
     "text": [
      "Optimal f: [6653, 5775, 3420, 3420, 10153, 4643, 3106, 2662, 3009, 879, 0, 2355, 0, 3420, 5510, 3044, 4882, 2416, 444, 2008, 3487, 5495, 2204, 0, 6301, 5623, 4882, 4882]\n",
      "Optimal flow cost: 15095.513524607872\n"
     ]
    }
   ],
   "source": [
    "#we have to recompute everything using the new cost function\n",
    "f = cp.Variable(n_edges)\n",
    "objective = cp.Minimize(((cp.inv_pos(np.ones(n_edges)-(f/C))).T@(l*C))-l.T@C -l.T@f)\n",
    "constraints = [B @ f == nu, f >=0, f <= C]\n",
    "prob = cp.Problem(objective, constraints)\n",
    "result = prob.solve()\n",
    "comparison_opt_flow = f.value\n",
    "#rounding\n",
    "rounded_opt_flow = [round(v) for v in comparison_opt_flow]\n",
    "print(\"Optimal f:\", rounded_opt_flow)\n",
    "print(\"Optimal flow cost:\", result)"
   ]
  },
  {
   "cell_type": "code",
   "execution_count": 280,
   "id": "4ddd10c7",
   "metadata": {},
   "outputs": [
    {
     "name": "stdout",
     "output_type": "stream",
     "text": [
      "Wardrop f with tolls: [6653, 5775, 3419, 3419, 10153, 4642, 3105, 2662, 3009, 878, 0, 2356, 0, 3419, 5510, 3043, 4882, 2415, 444, 2009, 3487, 5496, 2204, 0, 6301, 5624, 4882, 4882]\n"
     ]
    }
   ],
   "source": [
    "#let's define the new omegas using the new social optimal flow\n",
    "omegas_comparison = ((l*(C) / (C - comparison_opt_flow)**2)) * comparison_opt_flow\n",
    "objective = cp.Minimize((C*l).T @ (cp.log(C) - cp.log(C-f)) -l.T@f +  omegas_comparison.T@f )\n",
    "prob = cp.Problem(objective, constraints)\n",
    "tolls_result = prob.solve()\n",
    "flow_with_tolls = f.value\n",
    "#rounding\n",
    "rounded_tolls_flow = [round(v) for v in flow_with_tolls]\n",
    "print(\"Wardrop f with tolls:\", rounded_tolls_flow)"
   ]
  },
  {
   "cell_type": "code",
   "execution_count": 281,
   "id": "185806c9",
   "metadata": {},
   "outputs": [
    {
     "name": "stdout",
     "output_type": "stream",
     "text": [
      "Wardrop cost with tolls: 15095.51325601912\n"
     ]
    }
   ],
   "source": [
    "def comparison_cost(f, l, c):\n",
    "  return np.sum(((l*c)/(np.ones(len(f))- f/c)) - l*c - l*f)\n",
    "\n",
    "  \n",
    "tolls_cost = comparison_cost(f = flow_with_tolls, l=l, c=C)\n",
    "\n",
    "print(\"Wardrop cost with tolls:\", tolls_cost)"
   ]
  }
 ],
 "metadata": {
  "kernelspec": {
   "display_name": "Python 3 (ipykernel)",
   "language": "python",
   "name": "python3"
  },
  "language_info": {
   "codemirror_mode": {
    "name": "ipython",
    "version": 3
   },
   "file_extension": ".py",
   "mimetype": "text/x-python",
   "name": "python",
   "nbconvert_exporter": "python",
   "pygments_lexer": "ipython3",
   "version": "3.9.13"
  }
 },
 "nbformat": 4,
 "nbformat_minor": 5
}
